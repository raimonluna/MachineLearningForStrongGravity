{
 "cells": [
  {
   "cell_type": "markdown",
   "id": "8fd95d8d",
   "metadata": {
    "id": "8fd95d8d"
   },
   "source": [
    "# Lectures on Machine Learning for Strong Gravity\n",
    "## Lecture 2: Autoencoders and Generative Adversarial Networks\n",
    "\n",
    "To test it, simply press Ctrl+Enter sequentially in each cell, or click on the small icons on the left with the \"play\" symbol.\n",
    "\n",
    "<br>\n",
    "\n",
    "<a href=\"https://colab.research.google.com/github/raimonluna/MachineLearningForStrongGravity/blob/main/Lecture2_Autoencoders_and_Generative_Adversarial_Networks.ipynb\">\n",
    "  <img src=\"https://colab.research.google.com/assets/colab-badge.svg\" alt=\"Open In Colab\"/>\n",
    "</a>\n",
    "\n",
    "### In this lecture, you will learn:\n",
    " - How to reduce the dimensionality of data by finding an appropriate basis of vectors.\n",
    " - How autoencoders \"compress\" the data by automatically identifying the governing parameters.\n",
    " - How we can use GANs to generate samples from the same distribution as the training data.\n",
    "\n",
    "<br>"
   ]
  },
  {
   "cell_type": "code",
   "execution_count": null,
   "id": "3dd08143",
   "metadata": {
    "id": "3dd08143"
   },
   "outputs": [],
   "source": [
    "import torch\n",
    "import torch.nn as nn\n",
    "import torch.optim as optim\n",
    "from torch.utils.data import DataLoader\n",
    "from sklearn.decomposition import PCA, TruncatedSVD\n",
    "import numpy as np\n",
    "\n",
    "import matplotlib.pyplot as plt\n",
    "from IPython import display"
   ]
  },
  {
   "cell_type": "code",
   "execution_count": null,
   "id": "AaLiPLGMEG1M",
   "metadata": {
    "colab": {
     "base_uri": "https://localhost:8080/"
    },
    "id": "AaLiPLGMEG1M",
    "outputId": "7b261d91-a8c3-42c9-fe4d-dae14ec9f52e"
   },
   "outputs": [],
   "source": [
    "device = torch.device('cuda:0' if torch.cuda.is_available() else 'cpu')\n",
    "print('You are now using:', device)"
   ]
  },
  {
   "cell_type": "markdown",
   "id": "7ab369ec",
   "metadata": {
    "id": "7ab369ec"
   },
   "source": [
    "# 1. Toy Model Waveforms"
   ]
  },
  {
   "cell_type": "markdown",
   "id": "30259af3",
   "metadata": {
    "id": "30259af3"
   },
   "source": [
    "Let's first create a dataset of toy \"waveforms\" of the form\n",
    "\n",
    "$$\\psi = \\sin(2 \\pi k x)\\, e^{-8x^2}.$$\n",
    "\n",
    "we will use these as examples to train our models.\n",
    "\n",
    "<br>"
   ]
  },
  {
   "cell_type": "code",
   "execution_count": null,
   "id": "70e3a175",
   "metadata": {
    "id": "70e3a175"
   },
   "outputs": [],
   "source": [
    "def show_some_cases(dataset1, dataset2 = None):\n",
    "    fig, ax = plt.subplots(2,3, figsize = (12, 4));\n",
    "    font = {'size'   : 10}\n",
    "    plt.rc('font', **font)\n",
    "\n",
    "    x = np.linspace(-1, 1, 64, dtype = np.float32)\n",
    "    for i in range(2):\n",
    "        for j in range(3):\n",
    "            if dataset2 is not None:\n",
    "                ax[i,j].plot(x, dataset1[j + 3*i, :], 'b', label = 'Data')\n",
    "                ax[i,j].plot(x, dataset2[j + 3*i, :], 'r--', label = 'Approx')\n",
    "                ax[i,j].legend(loc = 'upper left')\n",
    "            else:\n",
    "                ax[i,j].plot(x, dataset1[j + 3*i, :], 'b')"
   ]
  },
  {
   "cell_type": "code",
   "execution_count": null,
   "id": "af372568",
   "metadata": {
    "colab": {
     "base_uri": "https://localhost:8080/",
     "height": 373
    },
    "id": "af372568",
    "outputId": "2859d1e6-b0ad-471c-cce2-e78f09cb59fc"
   },
   "outputs": [],
   "source": [
    "x       = np.linspace(-1, 1, 64, dtype = np.float32)\n",
    "randoms = 5*np.random.rand(1024)\n",
    "data    = torch.tensor(np.array([    np.sin(2 * k * np.pi * x) * np.exp(- 8 * x**2 ) for k in randoms]))\n",
    "\n",
    "show_some_cases(data)"
   ]
  },
  {
   "cell_type": "markdown",
   "id": "6c30c62d",
   "metadata": {
    "id": "6c30c62d"
   },
   "source": [
    "# 2. Principal Component Analysis / Singular Value Decomposition"
   ]
  },
  {
   "cell_type": "markdown",
   "id": "232013bd",
   "metadata": {
    "id": "232013bd"
   },
   "source": [
    "First we use linear algebra algorithms to express the waveforms as a linear combination of a few wisely chosen vectors:\n",
    "\n",
    "<br>"
   ]
  },
  {
   "cell_type": "code",
   "execution_count": null,
   "id": "e758f382",
   "metadata": {
    "colab": {
     "base_uri": "https://localhost:8080/",
     "height": 373
    },
    "id": "e758f382",
    "outputId": "ffc9c68a-ee68-4bfb-ac15-74a9bc3fb4b3"
   },
   "outputs": [],
   "source": [
    "pca = PCA(n_components = 10)\n",
    "pca.fit(data)\n",
    "\n",
    "encoded = pca.transform(data)\n",
    "decoded = pca.inverse_transform(encoded)\n",
    "\n",
    "show_some_cases(data, decoded)"
   ]
  },
  {
   "cell_type": "markdown",
   "id": "4caa57f2",
   "metadata": {
    "id": "4caa57f2"
   },
   "source": [
    "What are the first representative vectors?\n",
    "<br>"
   ]
  },
  {
   "cell_type": "code",
   "execution_count": null,
   "id": "733486e7",
   "metadata": {
    "colab": {
     "base_uri": "https://localhost:8080/",
     "height": 371
    },
    "id": "733486e7",
    "outputId": "9f3e2982-97b0-4208-c5eb-91cb64d95aef"
   },
   "outputs": [],
   "source": [
    "show_some_cases(pca.components_)"
   ]
  },
  {
   "cell_type": "markdown",
   "id": "48cd732d",
   "metadata": {
    "id": "48cd732d"
   },
   "source": [
    "And what is their importance representing the data?\n",
    "<br>"
   ]
  },
  {
   "cell_type": "code",
   "execution_count": null,
   "id": "4e87768e",
   "metadata": {
    "colab": {
     "base_uri": "https://localhost:8080/",
     "height": 430
    },
    "id": "4e87768e",
    "outputId": "886209f7-ae66-427f-8ef4-87c428fab5bd"
   },
   "outputs": [],
   "source": [
    "plt.yscale('log')\n",
    "plt.plot(pca.singular_values_, '.');"
   ]
  },
  {
   "cell_type": "markdown",
   "id": "81029541",
   "metadata": {
    "id": "81029541"
   },
   "source": [
    "## Challenges!\n",
    " - Try other algorithms, such as TruncatedSVD instead of PCA. What changes do you see?\n",
    " - How much can you reduce the number of components before the approximation gets bad?\n",
    " \n",
    " <br>"
   ]
  },
  {
   "cell_type": "markdown",
   "id": "ed3a21bc",
   "metadata": {
    "id": "ed3a21bc"
   },
   "source": [
    "# 3. Autoencoder"
   ]
  },
  {
   "cell_type": "markdown",
   "id": "ac029665",
   "metadata": {
    "id": "ac029665"
   },
   "source": [
    "An autoencoder introduces a bottleneck in a neural network, so the model is forced to \"summarize\" the data in a few parameters. The result is similar to PCA/SVD, but it can cpture nonlinear dependences.\n",
    "\n",
    "<br>"
   ]
  },
  {
   "cell_type": "code",
   "execution_count": null,
   "id": "p--QoWcsA4sM",
   "metadata": {
    "id": "p--QoWcsA4sM"
   },
   "outputs": [],
   "source": [
    "wave_size   = 64\n",
    "num_samples = 1024\n",
    "\n",
    "batch_size = 64\n",
    "lr         = 0.00002\n",
    "beta1      = 0.5\n",
    "niter      = 25\n",
    "\n",
    "nz  = 10    # Size of latent vector\n",
    "nef = 64    # Filter size of encoder\n",
    "ndf = 64    # Filter size of decoder\n",
    "nc  = 1     # Output wave channels"
   ]
  },
  {
   "cell_type": "code",
   "execution_count": null,
   "id": "HDNm2_OwAbXP",
   "metadata": {
    "id": "HDNm2_OwAbXP"
   },
   "outputs": [],
   "source": [
    "def weights_init(m):\n",
    "    classname = m.__class__.__name__\n",
    "    if classname.find('Conv') != -1:\n",
    "        m.weight.data.normal_(0.0, 0.02)\n",
    "    elif classname.find('BatchNorm') != -1:\n",
    "        m.weight.data.normal_(1.0, 0.02)\n",
    "        m.bias.data.fill_(0)\n",
    "\n",
    "def show_some_cases(dataset1, dataset2 = None):\n",
    "    fig, ax = plt.subplots(2,3, figsize = (12, 4));\n",
    "    font = {'size'   : 10}\n",
    "    plt.rc('font', **font)\n",
    "\n",
    "    x = np.linspace(-1, 1, wave_size, dtype = np.float32)\n",
    "    for i in range(2):\n",
    "        for j in range(3):\n",
    "            if dataset2 is not None:\n",
    "                ax[i,j].plot(x, dataset1[j + 3*i, 0, :], 'b', label = 'Data')\n",
    "                ax[i,j].plot(x, dataset2[j + 3*i, 0, :], 'r--', label = 'Approx')\n",
    "                ax[i,j].legend(loc = 'upper left')\n",
    "            else:\n",
    "                ax[i,j].plot(x, dataset1[j + 3*i, 0, :], 'b')\n"
   ]
  },
  {
   "cell_type": "code",
   "execution_count": null,
   "id": "mZxdJRB1BXA3",
   "metadata": {
    "colab": {
     "base_uri": "https://localhost:8080/",
     "height": 373
    },
    "id": "mZxdJRB1BXA3",
    "outputId": "bc78afbb-5771-4ff2-a6f7-4579663774de"
   },
   "outputs": [],
   "source": [
    "x       = np.linspace(-1, 1, wave_size, dtype = np.float32)\n",
    "randoms = 5 * np.random.rand(num_samples)\n",
    "data    = torch.tensor(np.array([ \\\n",
    "                                 np.sin(2 * k * np.pi * x) * np.exp(- 8 * x**2 )  \\\n",
    "                                 for k in randoms])).reshape(num_samples, 1, wave_size)\n",
    "\n",
    "show_some_cases(data)"
   ]
  },
  {
   "cell_type": "code",
   "execution_count": null,
   "id": "64443f63",
   "metadata": {
    "id": "64443f63"
   },
   "outputs": [],
   "source": [
    "class AutoEncoder(nn.Module):\n",
    "    def __init__(self):\n",
    "        super(AutoEncoder, self).__init__()\n",
    "\n",
    "        self.encoder = nn.Sequential(\n",
    "            # input is (nc) x 64\n",
    "            nn.Conv1d(nc, nef, 4, 2, 1, bias=False),\n",
    "            nn.LeakyReLU(0.2, inplace=True),\n",
    "            # state size. (nef) x 32\n",
    "            nn.Conv1d(nef, nef * 2, 4, 2, 1, bias=False),\n",
    "            nn.BatchNorm1d(nef * 2),\n",
    "            nn.LeakyReLU(0.2, inplace=True),\n",
    "            # state size. (nef*2) x 16\n",
    "            nn.Conv1d(nef * 2, nef * 4, 4, 2, 1, bias=False),\n",
    "            nn.BatchNorm1d(nef * 4),\n",
    "            nn.LeakyReLU(0.2, inplace=True),\n",
    "            # state size. (nef*4) x 8\n",
    "            nn.Conv1d(nef * 4, nef * 8, 4, 2, 1, bias=False),\n",
    "            nn.BatchNorm1d(nef * 8),\n",
    "            nn.LeakyReLU(0.2, inplace=True),\n",
    "            # state size. (nef*8) x 4\n",
    "            nn.Conv1d(nef * 8, nz, 4, 1, 0, bias=False),\n",
    "        )\n",
    "        \n",
    "        self.decoder = nn.Sequential(\n",
    "            # input is Z, going into a convolution\n",
    "            nn.ConvTranspose1d(     nz, ndf * 8, 4, 1, 0, bias=False),\n",
    "            nn.BatchNorm1d(ndf * 8),\n",
    "            nn.ReLU(True),\n",
    "            # state size. (ndf*8) x 4\n",
    "            nn.ConvTranspose1d(ndf * 8, ndf * 4, 4, 2, 1, bias=False),\n",
    "            nn.BatchNorm1d(ndf * 4),\n",
    "            nn.ReLU(True),\n",
    "            # state size. (ndf*4) x 8\n",
    "            nn.ConvTranspose1d(ndf * 4, ndf * 2, 4, 2, 1, bias=False),\n",
    "            nn.BatchNorm1d(ndf * 2),\n",
    "            nn.ReLU(True),\n",
    "            # state size. (ndf*2) x 16\n",
    "            nn.ConvTranspose1d(ndf * 2,     ndf, 4, 2, 1, bias=False),\n",
    "            nn.BatchNorm1d(ndf),\n",
    "            nn.ReLU(True),\n",
    "            # state size. (ndf) x 32\n",
    "            nn.ConvTranspose1d(    ndf,      nc, 4, 2, 1, bias=False),\n",
    "            # state size. (nc) x 64\n",
    "        )\n",
    "                \n",
    "    def forward(self, x):\n",
    "        return self.decoder(self.encoder(x))\n",
    "    "
   ]
  },
  {
   "cell_type": "markdown",
   "id": "5599b8df",
   "metadata": {
    "id": "5599b8df"
   },
   "source": [
    "## 3. 1. Training with 1-parameter dependence"
   ]
  },
  {
   "cell_type": "code",
   "execution_count": null,
   "id": "813f2790",
   "metadata": {
    "colab": {
     "base_uri": "https://localhost:8080/",
     "height": 479
    },
    "id": "813f2790",
    "outputId": "f9977d86-50ab-433c-92c4-314b59a3ebeb"
   },
   "outputs": [],
   "source": [
    "auto_encoder  = AutoEncoder().to(device)\n",
    "auto_encoder.apply(weights_init)\n",
    "\n",
    "loss_hist = []\n",
    "\n",
    "optimizer = optim.Adam(auto_encoder.parameters(), lr, betas=(beta1, 0.999))\n",
    "\n",
    "data_loader = DataLoader(data, batch_size = batch_size, shuffle=True)\n",
    "data_device = data.to(device)\n",
    "\n",
    "################## Training and Plotting ##################\n",
    "\n",
    "fig, (ax1, ax2) = plt.subplots(1,2, figsize = (12, 5));\n",
    "font = {'size'   : 19}\n",
    "plt.rc('font', **font)\n",
    "\n",
    "for epoch in range(niter):\n",
    "    try:\n",
    "        for X in data_loader:\n",
    "\n",
    "            X_device = X.to(device)\n",
    "            optimizer.zero_grad()\n",
    "\n",
    "            reconstructed = auto_encoder(X_device)\n",
    "            loss = torch.sum((X_device - reconstructed)**2)\n",
    "            \n",
    "            loss.backward()\n",
    "            optimizer.step()\n",
    "            \n",
    "        loss_hist.append(loss.item())\n",
    "        latent = auto_encoder.encoder(data_device).cpu().detach().numpy()\n",
    "\n",
    "        ax1.cla()\n",
    "        ax1.set_yscale('log')\n",
    "        ax1.set_xlabel('epoch')\n",
    "        ax1.set_ylabel('loss')\n",
    "        ax1.plot(loss_hist)\n",
    "\n",
    "        ax2.cla()\n",
    "        ax2.set_xlabel('x')\n",
    "        ax2.set_ylabel('y')\n",
    "        ax2.scatter(latent[:,0], latent[:,1], c = randoms)\n",
    "\n",
    "        display.display(plt.gcf())\n",
    "        display.clear_output(wait=True)\n",
    "        plt.tight_layout()\n",
    "            \n",
    "    except KeyboardInterrupt:\n",
    "        break\n",
    "        "
   ]
  },
  {
   "cell_type": "code",
   "execution_count": null,
   "id": "cc5a832a",
   "metadata": {
    "colab": {
     "base_uri": "https://localhost:8080/",
     "height": 389
    },
    "id": "cc5a832a",
    "outputId": "d70b17cf-d258-47c2-dda9-7570e5084ff7"
   },
   "outputs": [],
   "source": [
    "encoded = auto_encoder.encoder(data_device)\n",
    "decoded = auto_encoder.decoder(encoded)\n",
    "\n",
    "show_some_cases(data, decoded.cpu().detach().numpy())"
   ]
  },
  {
   "cell_type": "markdown",
   "id": "085d3c66",
   "metadata": {
    "id": "085d3c66"
   },
   "source": [
    "## 3.2. Let's try a 2-parameter dependence"
   ]
  },
  {
   "cell_type": "code",
   "execution_count": null,
   "id": "144aeada",
   "metadata": {
    "colab": {
     "base_uri": "https://localhost:8080/",
     "height": 369
    },
    "id": "144aeada",
    "outputId": "12d8a55c-09c9-404f-8217-6c24f17fb4ad"
   },
   "outputs": [],
   "source": [
    "x        = np.linspace(-1, 1, wave_size, dtype = np.float32)\n",
    "randoms1 = 5 * np.random.rand(num_samples)\n",
    "randoms2 = 2 * np.random.rand(num_samples)\n",
    "data     = torch.tensor(np.array([ \\\n",
    "                                  np.sin(2 * k1 * np.pi * x) * np.exp(- k2 * 8 * x**2 ) \\\n",
    "                                  for k1, k2 in zip(randoms1, randoms2)])).reshape(num_samples, 1, wave_size)\n",
    "\n",
    "show_some_cases(data)"
   ]
  },
  {
   "cell_type": "code",
   "execution_count": null,
   "id": "4154cafa",
   "metadata": {
    "colab": {
     "base_uri": "https://localhost:8080/",
     "height": 379
    },
    "id": "4154cafa",
    "outputId": "0923843c-82c6-4518-d078-e86fbcbd5dc0"
   },
   "outputs": [],
   "source": [
    "auto_encoder  = AutoEncoder().to(device)\n",
    "auto_encoder.apply(weights_init)\n",
    "\n",
    "loss_hist = []\n",
    "\n",
    "optimizer = optim.Adam(auto_encoder.parameters(), lr, betas=(beta1, 0.999))\n",
    "\n",
    "data_loader = DataLoader(data, batch_size = batch_size, shuffle=True)\n",
    "data_device = data.to(device)\n",
    "\n",
    "################## Training and Plotting ##################\n",
    "\n",
    "fig, (ax1, ax2, ax3) = plt.subplots(1,3, figsize = (12, 4));\n",
    "font = {'size'   : 19}\n",
    "plt.rc('font', **font)\n",
    "\n",
    "for epoch in range(niter):\n",
    "    try:\n",
    "        for X in data_loader:\n",
    "\n",
    "            X_device = X.to(device)\n",
    "            optimizer.zero_grad()\n",
    "\n",
    "            reconstructed = auto_encoder(X_device)\n",
    "            loss = torch.sum((X_device - reconstructed)**2)\n",
    "            \n",
    "            loss.backward()\n",
    "            optimizer.step()\n",
    "        \n",
    "        loss_hist.append(loss.item())\n",
    "        latent = auto_encoder.encoder(data_device).cpu().detach().numpy()\n",
    "\n",
    "        ax1.cla()\n",
    "        ax1.set_yscale('log')\n",
    "        ax1.set_xlabel('epoch')\n",
    "        ax1.set_ylabel('loss')\n",
    "        ax1.plot(loss_hist)\n",
    "\n",
    "        ax2.cla()\n",
    "        ax2.set_xlabel('x')\n",
    "        ax2.set_ylabel('y')\n",
    "        ax2.scatter(latent[:,0], latent[:,1], c = randoms1)\n",
    "        \n",
    "        ax3.cla()\n",
    "        ax3.set_xlabel('x')\n",
    "        ax3.set_ylabel('y')\n",
    "        ax3.scatter(latent[:,0], latent[:,1], c = randoms2)\n",
    "\n",
    "        display.display(plt.gcf())\n",
    "        display.clear_output(wait=True)\n",
    "        plt.tight_layout()\n",
    "            \n",
    "    except KeyboardInterrupt:\n",
    "        break\n",
    "        "
   ]
  },
  {
   "cell_type": "code",
   "execution_count": null,
   "id": "a151f138",
   "metadata": {
    "colab": {
     "base_uri": "https://localhost:8080/",
     "height": 384
    },
    "id": "a151f138",
    "outputId": "ea87e222-a1ce-44d2-9bf2-00be6b5c2ba9"
   },
   "outputs": [],
   "source": [
    "encoded = auto_encoder.encoder(data_device)\n",
    "decoded = auto_encoder.decoder(encoded)\n",
    "\n",
    "show_some_cases(data, decoded.cpu().detach().numpy())"
   ]
  },
  {
   "cell_type": "markdown",
   "id": "97df8e10",
   "metadata": {
    "id": "97df8e10"
   },
   "source": [
    "# 4. Generative Adversarial Networks (GANs)"
   ]
  },
  {
   "cell_type": "markdown",
   "id": "71338e41",
   "metadata": {
    "id": "71338e41"
   },
   "source": [
    "Generative Adversarial Networks try to create samples with the same probability distribution as our dataset. They have two parts:\n",
    "\n",
    " - The Generator: Takes a vector of normally distributed random values, and tries to translate them to convincing fake data.\n",
    " - The Discriminator: Tries to discriminate between real and fake data.\n",
    "\n",
    "During the training, the generator learns to make better and better data. meanwhile, the discriminator becomes better and better at identifying the false data from the generator.\n",
    "\n",
    "<br>"
   ]
  },
  {
   "cell_type": "code",
   "execution_count": null,
   "id": "afeb3baf",
   "metadata": {
    "id": "afeb3baf"
   },
   "outputs": [],
   "source": [
    "X = torch.normal(0., 1., (1024, 2))\n",
    "A = torch.tensor([[1, 2], [-0.1, 0.5]])\n",
    "b = torch.tensor([1, 2])\n",
    "data = torch.matmul(X, A) + b"
   ]
  },
  {
   "cell_type": "code",
   "execution_count": null,
   "id": "b5ccacf8",
   "metadata": {
    "id": "b5ccacf8"
   },
   "outputs": [],
   "source": [
    "class Generator(nn.Module):\n",
    "    def __init__(self):\n",
    "        super(Generator, self).__init__()\n",
    "\n",
    "        self.net = nn.Sequential(\n",
    "            nn.Linear(2,2),\n",
    "        )\n",
    "\n",
    "        for m in self.net.modules():\n",
    "            if isinstance(m, nn.Linear):\n",
    "                nn.init.normal_(m.weight, mean = 0, std = 0.02)\n",
    "                nn.init.constant_(m.bias, val = 0.0)\n",
    "                \n",
    "    def forward(self, x):\n",
    "        return self.net(x)\n",
    "    \n",
    "class Discriminator(nn.Module):\n",
    "    def __init__(self):\n",
    "        super(Discriminator, self).__init__()\n",
    "\n",
    "        self.net = nn.Sequential(\n",
    "            nn.Linear(2, 5),\n",
    "            nn.Tanh(),\n",
    "            nn.Linear(5,3),\n",
    "            nn.Tanh(),\n",
    "            nn.Linear(3,1),\n",
    "        )\n",
    "\n",
    "        for m in self.net.modules():\n",
    "            if isinstance(m, nn.Linear):\n",
    "                nn.init.normal_(m.weight, mean = 0, std = 0.02)\n",
    "                nn.init.constant_(m.bias, val = 0.0)\n",
    "                \n",
    "    def forward(self, x):\n",
    "        return self.net(x)"
   ]
  },
  {
   "cell_type": "code",
   "execution_count": null,
   "id": "6f20e9d2",
   "metadata": {
    "colab": {
     "base_uri": "https://localhost:8080/",
     "height": 379
    },
    "id": "6f20e9d2",
    "outputId": "287a6fb8-06c3-4de4-b4f4-453d74302661"
   },
   "outputs": [],
   "source": [
    "generator     = Generator()\n",
    "discriminator = Discriminator()\n",
    "\n",
    "gen_loss_hist = []\n",
    "dis_loss_hist = []\n",
    "\n",
    "gen_optimizer = optim.Adam(generator.parameters(), lr=0.005)\n",
    "dis_optimizer = optim.Adam(discriminator.parameters(), lr=0.05)\n",
    "\n",
    "data_loader = DataLoader(data, batch_size = 8, shuffle=True)\n",
    "\n",
    "################## Training and Plotting ##################\n",
    "\n",
    "fig, (ax1, ax2) = plt.subplots(1,2, figsize = (12, 4));\n",
    "font = {'size'   : 19}\n",
    "plt.rc('font', **font)\n",
    "\n",
    "for epoch in range(20):\n",
    "    try:\n",
    "        for X in data_loader:\n",
    "            loss_function = nn.BCEWithLogitsLoss(reduction='sum')\n",
    "            latent_space_points = torch.normal(0, 1, size=(8, 2))\n",
    "\n",
    "            ################## Train the Discriminator ##################\n",
    "            dis_optimizer.zero_grad()\n",
    "            fake_data = generator(latent_space_points)\n",
    "\n",
    "            real_data_evaluation = discriminator(X)\n",
    "            fake_data_evaluation = discriminator(fake_data.detach())\n",
    "\n",
    "            real_data_loss = loss_function(real_data_evaluation, torch.ones(8, 1))\n",
    "            fake_data_loss = loss_function(fake_data_evaluation, torch.zeros(8, 1))\n",
    "\n",
    "            dis_loss = (real_data_loss + fake_data_loss)/2\n",
    "            \n",
    "            dis_loss.backward()\n",
    "            dis_optimizer.step()\n",
    "            #############################################################\n",
    "\n",
    "            #################### Train the Generator ####################\n",
    "            gen_optimizer.zero_grad()\n",
    "            fake_data = generator(latent_space_points)\n",
    "\n",
    "            fake_data_evaluation = discriminator(fake_data)\n",
    "            gen_loss = loss_function(fake_data_evaluation, torch.ones(8, 1))\n",
    "\n",
    "            gen_loss.backward()\n",
    "            gen_optimizer.step()                             \n",
    "            #############################################################\n",
    "        \n",
    "        dis_loss_hist.append(dis_loss.item())\n",
    "        gen_loss_hist.append(gen_loss.item())\n",
    "        \n",
    "        latent_space_points = torch.normal(0, 1, size=(1024, 2))\n",
    "        fake_data = generator(latent_space_points).cpu().detach().numpy()\n",
    "        real_data = data\n",
    "\n",
    "        ax1.cla()\n",
    "        ax1.set_xlabel('epoch')\n",
    "        ax1.set_ylabel('loss')\n",
    "        ax1.plot(gen_loss_hist)\n",
    "        ax1.plot(dis_loss_hist)\n",
    "\n",
    "        ax2.cla()\n",
    "        ax2.set_xlabel('x')\n",
    "        ax2.set_ylabel('y')\n",
    "        ax2.scatter(real_data[:, 0], real_data[:, 1])\n",
    "        ax2.scatter(fake_data[:, 0], fake_data[:, 1])\n",
    "\n",
    "        display.display(plt.gcf())\n",
    "        display.clear_output(wait=True)\n",
    "        plt.tight_layout()\n",
    "            \n",
    "    except KeyboardInterrupt:\n",
    "        break\n",
    "        "
   ]
  },
  {
   "cell_type": "markdown",
   "id": "c1effcc6",
   "metadata": {
    "id": "c1effcc6"
   },
   "source": [
    "# 5. Deep Convolutional GAN for waveforms"
   ]
  },
  {
   "cell_type": "markdown",
   "id": "ec9c9b90",
   "metadata": {
    "id": "ec9c9b90"
   },
   "source": [
    "Let's try to create fake waveforms! In this case we need more complex neural networks (convolutional), so please enable a GPU on Google Colab by going to \"Edit\" > \"Notebook settings\" and select “GPU”. You may need to restart the kernel and run the first cell with the libraries.\n",
    "\n",
    "<br>"
   ]
  },
  {
   "cell_type": "code",
   "execution_count": null,
   "id": "9347ee13",
   "metadata": {
    "id": "9347ee13"
   },
   "outputs": [],
   "source": [
    "wave_size   = 64\n",
    "num_samples = 1024\n",
    "\n",
    "batch_size = 64\n",
    "lr         = 0.0002\n",
    "beta1      = 0.5\n",
    "niter      = 25\n",
    "\n",
    "nz  = 10    # Size of latent vector\n",
    "ngf = 64    # Filter size of generator\n",
    "ndf = 64    # Filter size of discriminator\n",
    "nc  = 1     # Output wave channels"
   ]
  },
  {
   "cell_type": "code",
   "execution_count": null,
   "id": "47d04b7b",
   "metadata": {
    "colab": {
     "base_uri": "https://localhost:8080/",
     "height": 389
    },
    "id": "47d04b7b",
    "outputId": "14449c81-c45c-4091-ed1c-cc1da2209cc9"
   },
   "outputs": [],
   "source": [
    "x        = np.linspace(-1, 1, wave_size, dtype = np.float32)\n",
    "randoms1 = 5 * np.random.rand(num_samples)\n",
    "randoms2 = 2 * np.random.rand(num_samples)\n",
    "data     = torch.tensor(np.array([ \\\n",
    "                                  np.sin(2 * k1 * np.pi * x) * np.exp(- k2 * 8 * x**2 ) \\\n",
    "                                  for k1, k2 in zip(randoms1, randoms2)])).reshape(num_samples, 1, wave_size)\n",
    "\n",
    "show_some_cases(data)"
   ]
  },
  {
   "cell_type": "code",
   "execution_count": null,
   "id": "b6e6fb79",
   "metadata": {
    "id": "b6e6fb79"
   },
   "outputs": [],
   "source": [
    "class Generator(nn.Module):\n",
    "    def __init__(self):\n",
    "        super(Generator, self).__init__()\n",
    "\n",
    "        self.net = nn.Sequential(\n",
    "            # input is Z, going into a convolution\n",
    "            nn.ConvTranspose1d(     nz, ngf * 8, 4, 1, 0, bias=False),\n",
    "            nn.BatchNorm1d(ngf * 8),\n",
    "            nn.ReLU(True),\n",
    "            # state size. (ngf*8) x 4\n",
    "            nn.ConvTranspose1d(ngf * 8, ngf * 4, 4, 2, 1, bias=False),\n",
    "            nn.BatchNorm1d(ngf * 4),\n",
    "            nn.ReLU(True),\n",
    "            # state size. (ngf*4) x 8\n",
    "            nn.ConvTranspose1d(ngf * 4, ngf * 2, 4, 2, 1, bias=False),\n",
    "            nn.BatchNorm1d(ngf * 2),\n",
    "            nn.ReLU(True),\n",
    "            # state size. (ngf*2) x 16\n",
    "            nn.ConvTranspose1d(ngf * 2,     ngf, 4, 2, 1, bias=False),\n",
    "            nn.BatchNorm1d(ngf),\n",
    "            nn.ReLU(True),\n",
    "            # state size. (ngf) x 32\n",
    "            nn.ConvTranspose1d(    ngf,      nc, 4, 2, 1, bias=False),\n",
    "            nn.Tanh()\n",
    "            # state size. (nc) x 64\n",
    "        )\n",
    "\n",
    "    def forward(self, input):\n",
    "        output = self.net(input)\n",
    "        return output\n",
    "\n",
    "    \n",
    "class Discriminator(nn.Module):\n",
    "    def __init__(self):\n",
    "        super(Discriminator, self).__init__()\n",
    "        self.net = nn.Sequential(\n",
    "            # input is (nc) x 64\n",
    "            nn.Conv1d(nc, ndf, 4, 2, 1, bias=False),\n",
    "            nn.LeakyReLU(0.2, inplace=True),\n",
    "            # state size. (ndf) x 32\n",
    "            nn.Conv1d(ndf, ndf * 2, 4, 2, 1, bias=False),\n",
    "            nn.BatchNorm1d(ndf * 2),\n",
    "            nn.LeakyReLU(0.2, inplace=True),\n",
    "            # state size. (ndf*2) x 16\n",
    "            nn.Conv1d(ndf * 2, ndf * 4, 4, 2, 1, bias=False),\n",
    "            nn.BatchNorm1d(ndf * 4),\n",
    "            nn.LeakyReLU(0.2, inplace=True),\n",
    "            # state size. (ndf*4) x 8\n",
    "            nn.Conv1d(ndf * 4, ndf * 8, 4, 2, 1, bias=False),\n",
    "            nn.BatchNorm1d(ndf * 8),\n",
    "            nn.LeakyReLU(0.2, inplace=True),\n",
    "            # state size. (ndf*8) x 4\n",
    "            nn.Conv1d(ndf * 8, 1, 4, 1, 0, bias=False),\n",
    "            nn.Sigmoid()\n",
    "        )\n",
    "\n",
    "    def forward(self, input):\n",
    "        output = self.net(input)\n",
    "        return output.view(-1, 1).squeeze(1)"
   ]
  },
  {
   "cell_type": "code",
   "execution_count": null,
   "id": "38c65e9e",
   "metadata": {
    "colab": {
     "base_uri": "https://localhost:8080/"
    },
    "id": "38c65e9e",
    "outputId": "a2c04b9c-2121-451e-dcb2-cb214bfc8f8b"
   },
   "outputs": [],
   "source": [
    "generator     = Generator().to(device)\n",
    "discriminator = Discriminator().to(device)\n",
    "\n",
    "generator.apply(weights_init)\n",
    "discriminator.apply(weights_init)\n",
    "\n",
    "real_label = torch.ones(batch_size).to(device)\n",
    "fake_label = torch.zeros(batch_size).to(device)\n",
    "\n",
    "gen_optimizer = optim.Adam(generator.parameters(), lr, betas=(beta1, 0.999))\n",
    "dis_optimizer = optim.Adam(discriminator.parameters(), lr, betas=(beta1, 0.999))\n",
    "loss_function = nn.BCELoss().to(device)\n",
    "\n",
    "data_loader   = DataLoader(data, batch_size = batch_size, shuffle=True)\n",
    "gen_loss_hist = []\n",
    "dis_loss_hist = []\n",
    "\n",
    "for epoch in range(niter):\n",
    "    print(epoch, end = ' ')\n",
    "    for i, X in enumerate(data_loader, 0):\n",
    "        \n",
    "        X_device = X.to(device)\n",
    "        latent_space_points = torch.normal(0, 1, size = (batch_size, nz, 1)).to(device)\n",
    "        \n",
    "        ################## Train the Discriminator ##################\n",
    "        \n",
    "        discriminator.zero_grad()\n",
    "\n",
    "        fake_data = generator(latent_space_points)\n",
    "\n",
    "        real_data_evaluation = discriminator(X_device)\n",
    "        fake_data_evaluation = discriminator(fake_data.detach())\n",
    "\n",
    "        real_data_loss = loss_function(real_data_evaluation, real_label)\n",
    "        fake_data_loss = loss_function(fake_data_evaluation, fake_label)\n",
    "\n",
    "        dis_loss = (real_data_loss + fake_data_loss) / 2\n",
    "\n",
    "        dis_loss.backward()\n",
    "        dis_optimizer.step()\n",
    "\n",
    "        #############################################################\n",
    "\n",
    "        #################### Train the Generator ####################\n",
    "        \n",
    "        gen_optimizer.zero_grad()\n",
    "        fake_data = generator(latent_space_points)\n",
    "\n",
    "        fake_data_evaluation = discriminator(fake_data)\n",
    "        gen_loss = loss_function(fake_data_evaluation, real_label)\n",
    "\n",
    "        gen_loss.backward()\n",
    "        gen_optimizer.step()  \n",
    "\n",
    "        #############################################################\n"
   ]
  },
  {
   "cell_type": "markdown",
   "id": "d53c4611",
   "metadata": {
    "id": "d53c4611"
   },
   "source": [
    "How do the fake waveforms look like?"
   ]
  },
  {
   "cell_type": "code",
   "execution_count": null,
   "id": "6a347cf2",
   "metadata": {
    "colab": {
     "base_uri": "https://localhost:8080/",
     "height": 372
    },
    "id": "6a347cf2",
    "outputId": "4e137658-3742-4860-a47b-8db2dd3cf746"
   },
   "outputs": [],
   "source": [
    "fixed_noise = torch.normal(0, 1, size = (6, nz, 1)).to(device)\n",
    "test = generator(fixed_noise)\n",
    "show_some_cases(test.cpu().detach().numpy())"
   ]
  },
  {
   "cell_type": "code",
   "execution_count": null,
   "id": "YHVdlxW4knPj",
   "metadata": {
    "id": "YHVdlxW4knPj"
   },
   "outputs": [],
   "source": []
  }
 ],
 "metadata": {
  "accelerator": "GPU",
  "colab": {
   "provenance": []
  },
  "gpuClass": "standard",
  "kernelspec": {
   "display_name": "Python 3 (ipykernel)",
   "language": "python",
   "name": "python3"
  },
  "language_info": {
   "codemirror_mode": {
    "name": "ipython",
    "version": 3
   },
   "file_extension": ".py",
   "mimetype": "text/x-python",
   "name": "python",
   "nbconvert_exporter": "python",
   "pygments_lexer": "ipython3",
   "version": "3.9.13"
  }
 },
 "nbformat": 4,
 "nbformat_minor": 5
}
